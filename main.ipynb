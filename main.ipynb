{
 "cells": [
  {
   "cell_type": "markdown",
   "metadata": {},
   "source": [
    "## Imports"
   ]
  },
  {
   "cell_type": "code",
   "execution_count": 1,
   "metadata": {},
   "outputs": [],
   "source": [
    "import os\n",
    "\n",
    "import matplotlib.pyplot as plt\n",
    "import numpy as np\n",
    "import pandas as pd\n",
    "import sklearn\n",
    "from sklearn.model_selection import cross_val_score, cross_validate\n",
    "from sklearn.linear_model import LogisticRegression\n",
    "from sklearn.svm import SVC\n",
    "from sklearn.ensemble import RandomForestClassifier, AdaBoostClassifier\n",
    "from sklearn.metrics import confusion_matrix"
   ]
  },
  {
   "cell_type": "markdown",
   "metadata": {},
   "source": [
    "## Data Loading"
   ]
  },
  {
   "cell_type": "code",
   "execution_count": 2,
   "metadata": {},
   "outputs": [],
   "source": [
    "DATA_PATH = \"/auto-insurance-fall-2017\"\n",
    "SETS_PATHS = {\"train\": \"/train_auto.csv\",\n",
    "             \"test\": \"/test_auto.csv\"}\n",
    "\n",
    "data = {}\n",
    "\n",
    "for key in SETS_PATHS.keys():\n",
    "    path = os.getcwd() + DATA_PATH + SETS_PATHS[key]\n",
    "    df = pd.read_csv(path)\n",
    "    data[key] = df"
   ]
  },
  {
   "cell_type": "markdown",
   "metadata": {},
   "source": [
    "## Explore data"
   ]
  },
  {
   "cell_type": "code",
   "execution_count": 3,
   "metadata": {},
   "outputs": [
    {
     "name": "stdout",
     "output_type": "stream",
     "text": [
      "(8161, 26)\n"
     ]
    },
    {
     "data": {
      "text/html": [
       "<div>\n",
       "<style scoped>\n",
       "    .dataframe tbody tr th:only-of-type {\n",
       "        vertical-align: middle;\n",
       "    }\n",
       "\n",
       "    .dataframe tbody tr th {\n",
       "        vertical-align: top;\n",
       "    }\n",
       "\n",
       "    .dataframe thead th {\n",
       "        text-align: right;\n",
       "    }\n",
       "</style>\n",
       "<table border=\"1\" class=\"dataframe\">\n",
       "  <thead>\n",
       "    <tr style=\"text-align: right;\">\n",
       "      <th></th>\n",
       "      <th>INDEX</th>\n",
       "      <th>TARGET_FLAG</th>\n",
       "      <th>TARGET_AMT</th>\n",
       "      <th>KIDSDRIV</th>\n",
       "      <th>AGE</th>\n",
       "      <th>HOMEKIDS</th>\n",
       "      <th>YOJ</th>\n",
       "      <th>INCOME</th>\n",
       "      <th>PARENT1</th>\n",
       "      <th>HOME_VAL</th>\n",
       "      <th>...</th>\n",
       "      <th>BLUEBOOK</th>\n",
       "      <th>TIF</th>\n",
       "      <th>CAR_TYPE</th>\n",
       "      <th>RED_CAR</th>\n",
       "      <th>OLDCLAIM</th>\n",
       "      <th>CLM_FREQ</th>\n",
       "      <th>REVOKED</th>\n",
       "      <th>MVR_PTS</th>\n",
       "      <th>CAR_AGE</th>\n",
       "      <th>URBANICITY</th>\n",
       "    </tr>\n",
       "  </thead>\n",
       "  <tbody>\n",
       "    <tr>\n",
       "      <th>0</th>\n",
       "      <td>1</td>\n",
       "      <td>0</td>\n",
       "      <td>0.0</td>\n",
       "      <td>0</td>\n",
       "      <td>60.0</td>\n",
       "      <td>0</td>\n",
       "      <td>11.0</td>\n",
       "      <td>$67,349</td>\n",
       "      <td>No</td>\n",
       "      <td>$0</td>\n",
       "      <td>...</td>\n",
       "      <td>$14,230</td>\n",
       "      <td>11</td>\n",
       "      <td>Minivan</td>\n",
       "      <td>yes</td>\n",
       "      <td>$4,461</td>\n",
       "      <td>2</td>\n",
       "      <td>No</td>\n",
       "      <td>3</td>\n",
       "      <td>18.0</td>\n",
       "      <td>Highly Urban/ Urban</td>\n",
       "    </tr>\n",
       "    <tr>\n",
       "      <th>1</th>\n",
       "      <td>2</td>\n",
       "      <td>0</td>\n",
       "      <td>0.0</td>\n",
       "      <td>0</td>\n",
       "      <td>43.0</td>\n",
       "      <td>0</td>\n",
       "      <td>11.0</td>\n",
       "      <td>$91,449</td>\n",
       "      <td>No</td>\n",
       "      <td>$257,252</td>\n",
       "      <td>...</td>\n",
       "      <td>$14,940</td>\n",
       "      <td>1</td>\n",
       "      <td>Minivan</td>\n",
       "      <td>yes</td>\n",
       "      <td>$0</td>\n",
       "      <td>0</td>\n",
       "      <td>No</td>\n",
       "      <td>0</td>\n",
       "      <td>1.0</td>\n",
       "      <td>Highly Urban/ Urban</td>\n",
       "    </tr>\n",
       "    <tr>\n",
       "      <th>2</th>\n",
       "      <td>4</td>\n",
       "      <td>0</td>\n",
       "      <td>0.0</td>\n",
       "      <td>0</td>\n",
       "      <td>35.0</td>\n",
       "      <td>1</td>\n",
       "      <td>10.0</td>\n",
       "      <td>$16,039</td>\n",
       "      <td>No</td>\n",
       "      <td>$124,191</td>\n",
       "      <td>...</td>\n",
       "      <td>$4,010</td>\n",
       "      <td>4</td>\n",
       "      <td>z_SUV</td>\n",
       "      <td>no</td>\n",
       "      <td>$38,690</td>\n",
       "      <td>2</td>\n",
       "      <td>No</td>\n",
       "      <td>3</td>\n",
       "      <td>10.0</td>\n",
       "      <td>Highly Urban/ Urban</td>\n",
       "    </tr>\n",
       "    <tr>\n",
       "      <th>3</th>\n",
       "      <td>5</td>\n",
       "      <td>0</td>\n",
       "      <td>0.0</td>\n",
       "      <td>0</td>\n",
       "      <td>51.0</td>\n",
       "      <td>0</td>\n",
       "      <td>14.0</td>\n",
       "      <td>NaN</td>\n",
       "      <td>No</td>\n",
       "      <td>$306,251</td>\n",
       "      <td>...</td>\n",
       "      <td>$15,440</td>\n",
       "      <td>7</td>\n",
       "      <td>Minivan</td>\n",
       "      <td>yes</td>\n",
       "      <td>$0</td>\n",
       "      <td>0</td>\n",
       "      <td>No</td>\n",
       "      <td>0</td>\n",
       "      <td>6.0</td>\n",
       "      <td>Highly Urban/ Urban</td>\n",
       "    </tr>\n",
       "    <tr>\n",
       "      <th>4</th>\n",
       "      <td>6</td>\n",
       "      <td>0</td>\n",
       "      <td>0.0</td>\n",
       "      <td>0</td>\n",
       "      <td>50.0</td>\n",
       "      <td>0</td>\n",
       "      <td>NaN</td>\n",
       "      <td>$114,986</td>\n",
       "      <td>No</td>\n",
       "      <td>$243,925</td>\n",
       "      <td>...</td>\n",
       "      <td>$18,000</td>\n",
       "      <td>1</td>\n",
       "      <td>z_SUV</td>\n",
       "      <td>no</td>\n",
       "      <td>$19,217</td>\n",
       "      <td>2</td>\n",
       "      <td>Yes</td>\n",
       "      <td>3</td>\n",
       "      <td>17.0</td>\n",
       "      <td>Highly Urban/ Urban</td>\n",
       "    </tr>\n",
       "  </tbody>\n",
       "</table>\n",
       "<p>5 rows × 26 columns</p>\n",
       "</div>"
      ],
      "text/plain": [
       "   INDEX  TARGET_FLAG  TARGET_AMT  KIDSDRIV   AGE  HOMEKIDS   YOJ    INCOME  \\\n",
       "0      1            0         0.0         0  60.0         0  11.0   $67,349   \n",
       "1      2            0         0.0         0  43.0         0  11.0   $91,449   \n",
       "2      4            0         0.0         0  35.0         1  10.0   $16,039   \n",
       "3      5            0         0.0         0  51.0         0  14.0       NaN   \n",
       "4      6            0         0.0         0  50.0         0   NaN  $114,986   \n",
       "\n",
       "  PARENT1  HOME_VAL  ... BLUEBOOK TIF CAR_TYPE RED_CAR  OLDCLAIM CLM_FREQ  \\\n",
       "0      No        $0  ...  $14,230  11  Minivan     yes    $4,461        2   \n",
       "1      No  $257,252  ...  $14,940   1  Minivan     yes        $0        0   \n",
       "2      No  $124,191  ...   $4,010   4    z_SUV      no   $38,690        2   \n",
       "3      No  $306,251  ...  $15,440   7  Minivan     yes        $0        0   \n",
       "4      No  $243,925  ...  $18,000   1    z_SUV      no   $19,217        2   \n",
       "\n",
       "  REVOKED  MVR_PTS CAR_AGE           URBANICITY  \n",
       "0      No        3    18.0  Highly Urban/ Urban  \n",
       "1      No        0     1.0  Highly Urban/ Urban  \n",
       "2      No        3    10.0  Highly Urban/ Urban  \n",
       "3      No        0     6.0  Highly Urban/ Urban  \n",
       "4     Yes        3    17.0  Highly Urban/ Urban  \n",
       "\n",
       "[5 rows x 26 columns]"
      ]
     },
     "execution_count": 3,
     "metadata": {},
     "output_type": "execute_result"
    }
   ],
   "source": [
    "print(data[\"train\"].shape)\n",
    "data[\"train\"].head()"
   ]
  },
  {
   "cell_type": "code",
   "execution_count": 4,
   "metadata": {},
   "outputs": [
    {
     "data": {
      "text/plain": [
       "Index(['INDEX', 'TARGET_FLAG', 'TARGET_AMT', 'KIDSDRIV', 'AGE', 'HOMEKIDS',\n",
       "       'YOJ', 'INCOME', 'PARENT1', 'HOME_VAL', 'MSTATUS', 'SEX', 'EDUCATION',\n",
       "       'JOB', 'TRAVTIME', 'CAR_USE', 'BLUEBOOK', 'TIF', 'CAR_TYPE', 'RED_CAR',\n",
       "       'OLDCLAIM', 'CLM_FREQ', 'REVOKED', 'MVR_PTS', 'CAR_AGE', 'URBANICITY'],\n",
       "      dtype='object')"
      ]
     },
     "execution_count": 4,
     "metadata": {},
     "output_type": "execute_result"
    }
   ],
   "source": [
    "data[\"train\"].columns"
   ]
  },
  {
   "cell_type": "code",
   "execution_count": 5,
   "metadata": {},
   "outputs": [
    {
     "data": {
      "text/html": [
       "<div>\n",
       "<style scoped>\n",
       "    .dataframe tbody tr th:only-of-type {\n",
       "        vertical-align: middle;\n",
       "    }\n",
       "\n",
       "    .dataframe tbody tr th {\n",
       "        vertical-align: top;\n",
       "    }\n",
       "\n",
       "    .dataframe thead th {\n",
       "        text-align: right;\n",
       "    }\n",
       "</style>\n",
       "<table border=\"1\" class=\"dataframe\">\n",
       "  <thead>\n",
       "    <tr style=\"text-align: right;\">\n",
       "      <th></th>\n",
       "      <th>INDEX</th>\n",
       "      <th>TARGET_FLAG</th>\n",
       "      <th>TARGET_AMT</th>\n",
       "      <th>KIDSDRIV</th>\n",
       "      <th>AGE</th>\n",
       "      <th>HOMEKIDS</th>\n",
       "      <th>YOJ</th>\n",
       "      <th>TRAVTIME</th>\n",
       "      <th>TIF</th>\n",
       "      <th>CLM_FREQ</th>\n",
       "      <th>MVR_PTS</th>\n",
       "      <th>CAR_AGE</th>\n",
       "    </tr>\n",
       "  </thead>\n",
       "  <tbody>\n",
       "    <tr>\n",
       "      <th>count</th>\n",
       "      <td>8161.000000</td>\n",
       "      <td>8161.000000</td>\n",
       "      <td>8161.000000</td>\n",
       "      <td>8161.000000</td>\n",
       "      <td>8155.000000</td>\n",
       "      <td>8161.000000</td>\n",
       "      <td>7707.000000</td>\n",
       "      <td>8161.000000</td>\n",
       "      <td>8161.000000</td>\n",
       "      <td>8161.000000</td>\n",
       "      <td>8161.000000</td>\n",
       "      <td>7651.000000</td>\n",
       "    </tr>\n",
       "    <tr>\n",
       "      <th>mean</th>\n",
       "      <td>5151.867663</td>\n",
       "      <td>0.263816</td>\n",
       "      <td>1504.324648</td>\n",
       "      <td>0.171057</td>\n",
       "      <td>44.790313</td>\n",
       "      <td>0.721235</td>\n",
       "      <td>10.499286</td>\n",
       "      <td>33.485725</td>\n",
       "      <td>5.351305</td>\n",
       "      <td>0.798554</td>\n",
       "      <td>1.695503</td>\n",
       "      <td>8.328323</td>\n",
       "    </tr>\n",
       "    <tr>\n",
       "      <th>std</th>\n",
       "      <td>2978.893962</td>\n",
       "      <td>0.440728</td>\n",
       "      <td>4704.026930</td>\n",
       "      <td>0.511534</td>\n",
       "      <td>8.627589</td>\n",
       "      <td>1.116323</td>\n",
       "      <td>4.092474</td>\n",
       "      <td>15.908333</td>\n",
       "      <td>4.146635</td>\n",
       "      <td>1.158453</td>\n",
       "      <td>2.147112</td>\n",
       "      <td>5.700742</td>\n",
       "    </tr>\n",
       "    <tr>\n",
       "      <th>min</th>\n",
       "      <td>1.000000</td>\n",
       "      <td>0.000000</td>\n",
       "      <td>0.000000</td>\n",
       "      <td>0.000000</td>\n",
       "      <td>16.000000</td>\n",
       "      <td>0.000000</td>\n",
       "      <td>0.000000</td>\n",
       "      <td>5.000000</td>\n",
       "      <td>1.000000</td>\n",
       "      <td>0.000000</td>\n",
       "      <td>0.000000</td>\n",
       "      <td>-3.000000</td>\n",
       "    </tr>\n",
       "    <tr>\n",
       "      <th>25%</th>\n",
       "      <td>2559.000000</td>\n",
       "      <td>0.000000</td>\n",
       "      <td>0.000000</td>\n",
       "      <td>0.000000</td>\n",
       "      <td>39.000000</td>\n",
       "      <td>0.000000</td>\n",
       "      <td>9.000000</td>\n",
       "      <td>22.000000</td>\n",
       "      <td>1.000000</td>\n",
       "      <td>0.000000</td>\n",
       "      <td>0.000000</td>\n",
       "      <td>1.000000</td>\n",
       "    </tr>\n",
       "    <tr>\n",
       "      <th>50%</th>\n",
       "      <td>5133.000000</td>\n",
       "      <td>0.000000</td>\n",
       "      <td>0.000000</td>\n",
       "      <td>0.000000</td>\n",
       "      <td>45.000000</td>\n",
       "      <td>0.000000</td>\n",
       "      <td>11.000000</td>\n",
       "      <td>33.000000</td>\n",
       "      <td>4.000000</td>\n",
       "      <td>0.000000</td>\n",
       "      <td>1.000000</td>\n",
       "      <td>8.000000</td>\n",
       "    </tr>\n",
       "    <tr>\n",
       "      <th>75%</th>\n",
       "      <td>7745.000000</td>\n",
       "      <td>1.000000</td>\n",
       "      <td>1036.000000</td>\n",
       "      <td>0.000000</td>\n",
       "      <td>51.000000</td>\n",
       "      <td>1.000000</td>\n",
       "      <td>13.000000</td>\n",
       "      <td>44.000000</td>\n",
       "      <td>7.000000</td>\n",
       "      <td>2.000000</td>\n",
       "      <td>3.000000</td>\n",
       "      <td>12.000000</td>\n",
       "    </tr>\n",
       "    <tr>\n",
       "      <th>max</th>\n",
       "      <td>10302.000000</td>\n",
       "      <td>1.000000</td>\n",
       "      <td>107586.136160</td>\n",
       "      <td>4.000000</td>\n",
       "      <td>81.000000</td>\n",
       "      <td>5.000000</td>\n",
       "      <td>23.000000</td>\n",
       "      <td>142.000000</td>\n",
       "      <td>25.000000</td>\n",
       "      <td>5.000000</td>\n",
       "      <td>13.000000</td>\n",
       "      <td>28.000000</td>\n",
       "    </tr>\n",
       "  </tbody>\n",
       "</table>\n",
       "</div>"
      ],
      "text/plain": [
       "              INDEX  TARGET_FLAG     TARGET_AMT     KIDSDRIV          AGE  \\\n",
       "count   8161.000000  8161.000000    8161.000000  8161.000000  8155.000000   \n",
       "mean    5151.867663     0.263816    1504.324648     0.171057    44.790313   \n",
       "std     2978.893962     0.440728    4704.026930     0.511534     8.627589   \n",
       "min        1.000000     0.000000       0.000000     0.000000    16.000000   \n",
       "25%     2559.000000     0.000000       0.000000     0.000000    39.000000   \n",
       "50%     5133.000000     0.000000       0.000000     0.000000    45.000000   \n",
       "75%     7745.000000     1.000000    1036.000000     0.000000    51.000000   \n",
       "max    10302.000000     1.000000  107586.136160     4.000000    81.000000   \n",
       "\n",
       "          HOMEKIDS          YOJ     TRAVTIME          TIF     CLM_FREQ  \\\n",
       "count  8161.000000  7707.000000  8161.000000  8161.000000  8161.000000   \n",
       "mean      0.721235    10.499286    33.485725     5.351305     0.798554   \n",
       "std       1.116323     4.092474    15.908333     4.146635     1.158453   \n",
       "min       0.000000     0.000000     5.000000     1.000000     0.000000   \n",
       "25%       0.000000     9.000000    22.000000     1.000000     0.000000   \n",
       "50%       0.000000    11.000000    33.000000     4.000000     0.000000   \n",
       "75%       1.000000    13.000000    44.000000     7.000000     2.000000   \n",
       "max       5.000000    23.000000   142.000000    25.000000     5.000000   \n",
       "\n",
       "           MVR_PTS      CAR_AGE  \n",
       "count  8161.000000  7651.000000  \n",
       "mean      1.695503     8.328323  \n",
       "std       2.147112     5.700742  \n",
       "min       0.000000    -3.000000  \n",
       "25%       0.000000     1.000000  \n",
       "50%       1.000000     8.000000  \n",
       "75%       3.000000    12.000000  \n",
       "max      13.000000    28.000000  "
      ]
     },
     "execution_count": 5,
     "metadata": {},
     "output_type": "execute_result"
    }
   ],
   "source": [
    "data[\"train\"].describe()"
   ]
  },
  {
   "cell_type": "markdown",
   "metadata": {},
   "source": [
    "At this point we see that a lot of features are categorical, and that prices are formated as strings.\n",
    "\n",
    "We also know (from the feature mean) that TARGET_FLAG is unbalanced."
   ]
  },
  {
   "cell_type": "code",
   "execution_count": 6,
   "metadata": {},
   "outputs": [
    {
     "data": {
      "text/plain": [
       "array(['Highly Urban/ Urban', 'z_Highly Rural/ Rural'], dtype=object)"
      ]
     },
     "execution_count": 6,
     "metadata": {},
     "output_type": "execute_result"
    }
   ],
   "source": [
    "# Here I inspected non-numerical features to check which were categorical and which were prices\n",
    "# This revealed that there are somme missing data in \"JOB\"\n",
    "\n",
    "# data[\"train\"][\"JOB\"].values\n",
    "np.unique(data[\"train\"][\"URBANICITY\"].values)"
   ]
  },
  {
   "cell_type": "markdown",
   "metadata": {},
   "source": [
    "We should also evaluate the ammount of missing data"
   ]
  },
  {
   "cell_type": "code",
   "execution_count": 7,
   "metadata": {
    "scrolled": true
   },
   "outputs": [
    {
     "name": "stdout",
     "output_type": "stream",
     "text": [
      "INDEX            0\n",
      "TARGET_FLAG      0\n",
      "TARGET_AMT       0\n",
      "KIDSDRIV         0\n",
      "AGE              6\n",
      "HOMEKIDS         0\n",
      "YOJ            454\n",
      "INCOME         445\n",
      "PARENT1          0\n",
      "HOME_VAL       464\n",
      "MSTATUS          0\n",
      "SEX              0\n",
      "EDUCATION        0\n",
      "JOB            526\n",
      "TRAVTIME         0\n",
      "CAR_USE          0\n",
      "BLUEBOOK         0\n",
      "TIF              0\n",
      "CAR_TYPE         0\n",
      "RED_CAR          0\n",
      "OLDCLAIM         0\n",
      "CLM_FREQ         0\n",
      "REVOKED          0\n",
      "MVR_PTS          0\n",
      "CAR_AGE        510\n",
      "URBANICITY       0\n",
      "dtype: int64\n"
     ]
    }
   ],
   "source": [
    "# Evaluate the ammount of missing data\n",
    "print(data[\"train\"].isna().sum(axis=0))"
   ]
  },
  {
   "cell_type": "markdown",
   "metadata": {},
   "source": [
    "## Preprocessing"
   ]
  },
  {
   "cell_type": "code",
   "execution_count": 8,
   "metadata": {},
   "outputs": [],
   "source": [
    "# get targets and indices before preprocessing features\n",
    "train_targets = data[\"train\"][\"TARGET_FLAG\"].values\n",
    "train_indices = data[\"train\"][\"INDEX\"]\n",
    "test_indices = data[\"test\"][\"INDEX\"]"
   ]
  },
  {
   "cell_type": "markdown",
   "metadata": {},
   "source": [
    "I apply the following preprocessings:\n",
    "\n",
    "- turn prices to numerical data\n",
    "\n",
    "- replace missing values in YOJ, INCOME, HOME_VAL, CAR_AGE, AGE by the average value (loosing 1/4 of the dataset seemed to costly so I didn't discard them)\n",
    "\n",
    "- consider \"Unknown\" as a job type to handle missing values in \"JOB\"\n",
    "\n",
    "- 1-hot encode categoricals values\n",
    "\n",
    "- Normalize features"
   ]
  },
  {
   "cell_type": "code",
   "execution_count": 9,
   "metadata": {},
   "outputs": [],
   "source": [
    "def price_to_float(value):\n",
    "    \"Converts prices (strings starting by $ into floats) without changing other values\"\n",
    "    try:\n",
    "        if value.startswith('$'):\n",
    "            return float(value[1:].replace(',','.'))\n",
    "        else:\n",
    "            return value\n",
    "    except:\n",
    "        return value"
   ]
  },
  {
   "cell_type": "code",
   "execution_count": 10,
   "metadata": {},
   "outputs": [],
   "source": [
    "# Apply all the transforms on both train and test data:\n",
    "\n",
    "for mode in data.keys():\n",
    "    # Remove targets from features\n",
    "    data[mode].drop([\"TARGET_FLAG\", \"TARGET_AMT\"], axis=1, inplace=True)\n",
    "    \n",
    "    # Convert prices\n",
    "    prices_features = ['INCOME', 'HOME_VAL', 'OLDCLAIM', 'BLUEBOOK']\n",
    "    for feature in prices_features:\n",
    "        data[mode][feature] = data[mode][feature].apply(price_to_float)\n",
    "    \n",
    "    # Replace missing prices/age values with mean\n",
    "    data[mode].fillna(data[mode].mean(), inplace=True)\n",
    "    \n",
    "    # Make missing job information a new category\n",
    "    data[mode][\"JOB\"].replace({float('nan'): \"Unknown\"}, inplace=True)\n",
    "    \n",
    "    # One-hot encode categorical features\n",
    "    # drop_first prevents us from duplicating \n",
    "    data[mode] = pd.get_dummies(data[mode], drop_first=True)"
   ]
  },
  {
   "cell_type": "code",
   "execution_count": 11,
   "metadata": {},
   "outputs": [],
   "source": [
    "# Normalize dataframes\n",
    "\n",
    "train_mean = data[\"train\"].mean()\n",
    "train_std = data[\"train\"].std()\n",
    "\n",
    "data[\"train\"] =(data[\"train\"]-train_mean)/train_std\n",
    "data[\"test\"] =(data[\"test\"]-train_mean)/train_std"
   ]
  },
  {
   "cell_type": "code",
   "execution_count": 12,
   "metadata": {
    "scrolled": true
   },
   "outputs": [
    {
     "name": "stdout",
     "output_type": "stream",
     "text": [
      "INDEX                               0.000594\n",
      "KIDSDRIV                            0.016649\n",
      "AGE                                -0.026264\n",
      "HOMEKIDS                            0.003416\n",
      "YOJ                                 0.030223\n",
      "INCOME                              0.070127\n",
      "HOME_VAL                            0.013155\n",
      "TRAVTIME                            0.020961\n",
      "BLUEBOOK                            0.028561\n",
      "TIF                                 0.025698\n",
      "OLDCLAIM                           -0.020342\n",
      "CLM_FREQ                           -0.008989\n",
      "MVR_PTS                            -0.032832\n",
      "CAR_AGE                             0.026256\n",
      "PARENT1_Yes                         0.022832\n",
      "MSTATUS_z_No                        0.009610\n",
      "SEX_z_F                            -0.020828\n",
      "EDUCATION_Bachelors                 0.007511\n",
      "EDUCATION_Masters                   0.017375\n",
      "EDUCATION_PhD                      -0.024599\n",
      "EDUCATION_z_High School            -0.011101\n",
      "JOB_Doctor                         -0.028580\n",
      "JOB_Home Maker                     -0.058742\n",
      "JOB_Lawyer                          0.035535\n",
      "JOB_Manager                        -0.014035\n",
      "JOB_Professional                    0.002772\n",
      "JOB_Student                        -0.000348\n",
      "JOB_Unknown                        -0.001914\n",
      "JOB_z_Blue Collar                   0.017688\n",
      "CAR_USE_Private                    -0.033491\n",
      "CAR_TYPE_Panel Truck                0.000585\n",
      "CAR_TYPE_Pickup                    -0.023118\n",
      "CAR_TYPE_Sports Car                -0.050601\n",
      "CAR_TYPE_Van                        0.041645\n",
      "CAR_TYPE_z_SUV                      0.013319\n",
      "RED_CAR_yes                         0.026577\n",
      "REVOKED_Yes                         0.001916\n",
      "URBANICITY_z_Highly Rural/ Rural    0.040359\n",
      "dtype: float64\n"
     ]
    }
   ],
   "source": [
    "# Check for biases in test dataset\n",
    "print(data[\"train\"].mean() - data[\"test\"].mean())"
   ]
  },
  {
   "cell_type": "markdown",
   "metadata": {},
   "source": [
    "The mean values for each feature is similar in the train and test sets."
   ]
  },
  {
   "cell_type": "markdown",
   "metadata": {},
   "source": [
    "## Feature Engineering"
   ]
  },
  {
   "cell_type": "markdown",
   "metadata": {},
   "source": [
    "Here I would design other features or select the most relevant ones if needed. (I didn't have time to do so in the 2 hours)"
   ]
  },
  {
   "cell_type": "markdown",
   "metadata": {},
   "source": [
    "## Tring different models and assessing theire performances "
   ]
  },
  {
   "cell_type": "code",
   "execution_count": 13,
   "metadata": {},
   "outputs": [
    {
     "name": "stdout",
     "output_type": "stream",
     "text": [
      "---regression_model---\n",
      "0.7174362564989253\n",
      "[[0.50670986 0.23970384]\n",
      " [0.0532161  0.2003702 ]]\n",
      "---svc_model---\n",
      "0.7261363363471537\n",
      "[[0.52429431 0.22211939]\n",
      " [0.06339658 0.19018973]]\n",
      "---randomForest_model---\n",
      "0.77943930634103\n",
      "[[0.71957427 0.02683943]\n",
      " [0.18880148 0.06478482]]\n",
      "---adaboost_model---\n",
      "0.7778456437688364\n",
      "[[0.66728366 0.07913003]\n",
      " [0.14298936 0.11059695]]\n"
     ]
    }
   ],
   "source": [
    "def mean_cross_val_score(features, targets, model):\n",
    "    \"Computes the cross_validation score on a 5-fold basis\"\n",
    "    scores = cross_val_score(model, features, targets)\n",
    "    return scores.mean()\n",
    "\n",
    "def plot_confusion_matrix(features, targets, model):\n",
    "    \"Computes confusion matrices for a single fold\"\n",
    "    train_feats = features[:6000]\n",
    "    test_feats = features[6000:]\n",
    "    train_targets = targets[:6000]\n",
    "    test_targets = targets[6000:]\n",
    "    model.fit(train_feats, train_targets)\n",
    "    preds = model.predict(test_feats)\n",
    "    model_confusion = confusion_matrix(test_targets, preds, normalize='all')\n",
    "    return(model_confusion)\n",
    "\n",
    "train_features = data[\"train\"].values\n",
    "\n",
    "# Models I have tested don't get above 0.79 accuracy\n",
    "# I plotted the confusion matrix to check the relevance of the predictions\n",
    "# The choice of balancing the classes depends on the relevant metric for the project\n",
    "\n",
    "models = {\n",
    "    \"regression_model\": LogisticRegression(class_weight=\"balanced\"),\n",
    "    \"svc_model\": SVC(class_weight=\"balanced\"),\n",
    "    \"randomForest_model\": RandomForestClassifier(class_weight=\"balanced\"),\n",
    "    \"adaboost_model\": AdaBoostClassifier(),\n",
    "}\n",
    "\n",
    "for model_name in models.keys():\n",
    "    model = models[model_name]\n",
    "    print(f\"---{model_name}---\")\n",
    "    print(mean_cross_val_score(train_features, train_targets, model))\n",
    "    print(plot_confusion_matrix(train_features, train_targets, model))"
   ]
  },
  {
   "cell_type": "markdown",
   "metadata": {},
   "source": [
    "I assumed that the main objective was to maximise the True Positive rate (predict when a client will demand a compensation), so I used the logistic regression model with class weights for the predictions."
   ]
  },
  {
   "cell_type": "markdown",
   "metadata": {},
   "source": [
    "## Predictions"
   ]
  },
  {
   "cell_type": "code",
   "execution_count": 14,
   "metadata": {},
   "outputs": [],
   "source": [
    "final_model = LogisticRegression(class_weight=\"balanced\")\n",
    "\n",
    "final_model.fit(data[\"train\"], train_targets)\n",
    "\n",
    "predictions = final_model.predict(data[\"test\"])\n",
    "\n",
    "predictions_df = pd.DataFrame({\"predictions\": predictions}, index=test_indices)\n",
    "\n",
    "predictions_df.to_csv(\"test_predictions.csv\")"
   ]
  },
  {
   "cell_type": "code",
   "execution_count": 15,
   "metadata": {},
   "outputs": [
    {
     "name": "stdout",
     "output_type": "stream",
     "text": [
      "0.4348435310602522\n"
     ]
    }
   ],
   "source": [
    "# Check the balance of predictions in the test dataset:\n",
    "print(predictions_df[\"predictions\"].mean())"
   ]
  },
  {
   "cell_type": "code",
   "execution_count": null,
   "metadata": {},
   "outputs": [],
   "source": []
  }
 ],
 "metadata": {
  "kernelspec": {
   "display_name": "descartes_tech_interview",
   "language": "python",
   "name": "descartes_tech_interview"
  },
  "language_info": {
   "codemirror_mode": {
    "name": "ipython",
    "version": 3
   },
   "file_extension": ".py",
   "mimetype": "text/x-python",
   "name": "python",
   "nbconvert_exporter": "python",
   "pygments_lexer": "ipython3",
   "version": "3.7.0"
  }
 },
 "nbformat": 4,
 "nbformat_minor": 2
}
